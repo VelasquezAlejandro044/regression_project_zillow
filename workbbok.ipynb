{
 "cells": [
  {
   "cell_type": "markdown",
   "metadata": {},
   "source": [
    "# Your notebook should begin with a project overview and goals and end with a conclusion that talks about your original goals and how you reached those (or didn't), the key findings, recommendations and next steps (\"If I had more time, I would...\")\n",
    "\n"
   ]
  },
  {
   "cell_type": "markdown",
   "metadata": {},
   "source": [
    "# Planning\n",
    "\n",
    "Business stakeholders and end users often ask more general questions that are very hard to answer directly or extremely specific questions that are not going to achieve their underlying goal. This leads to miscommunication, time spent on work that is ultimately thrown away, or inadequate understanding of the underlying problem being investigated. As you gain experience with the data and domain, you gain a better understanding of problems and can ask more informative & specialized questions. Even then, however, it is important to work through this planning stage, as it is all too easy to get lost down a rabbit hole when working on a data science project.\n",
    "\n",
    "**The goal** of this stage is to clearly define your goal(s), measures of success, and plans on how to achieve that.\n",
    "\n",
    "**The deliverable** is documentation of your goal, your measure of success, and how you plan on getting there. If you haven't clearly defined success, you will not know when you have achieved it.\n",
    "\n",
    "**How to get there:** You can get there by answering questions about the final product & formulating or identifying any initial hypotheses (from you or others).\n",
    "\n",
    "Common questions include:\n",
    "\n",
    "- What will the end product look like?\n",
    "- What format will it be in?\n",
    "- Who will it be delivered to?\n",
    "- How will it be used?\n",
    "- How will I know I'm done?\n",
    "- What is my MVP?\n",
    "- How will I know it's good enough?\n",
    "\n",
    "Formulating hypotheses\n",
    "- Is attribute V1 related to attribute V2?\n",
    "- Is the mean of target variable Y for subset A significantly different from that of subset B?\n"
   ]
  },
  {
   "cell_type": "code",
   "execution_count": 1,
   "metadata": {},
   "outputs": [],
   "source": [
    "\n",
    "#libraries\n",
    "import pandas as pd\n",
    "import numpy as np\n",
    "import seaborn as sns\n",
    "import matplotlib.pyplot as plt\n",
    "#ignore warnings\n",
    "import warnings\n",
    "warnings.filterwarnings('ignore')\n",
    "#pipeline imports\n",
    "import env\n",
    "\n",
    "#stats imports\n",
    "from scipy import stats\n",
    "from scipy.stats import pearsonr, spearmanr\n",
    "\n",
    "#sklearn imports\n",
    "from sklearn.linear_model import LinearRegression, LassoLars, TweedieRegressor\n",
    "from sklearn.metrics import mean_squared_error, r2_score, explained_variance_score\n",
    "from sklearn.feature_selection import SelectKBest, f_regression, RFE\n",
    "from sklearn.preprocessing import RobustScaler, QuantileTransformer\n",
    "from sklearn.preprocessing import PolynomialFeatures\n",
    "from sklearn.model_selection import train_test_split\n",
    "\n",
    "#math import\n",
    "from math import sqrt\n",
    "\n",
    "#project library\n",
    "from wrangle import get_zillow_data\n",
    "from wrangle import remove_outliers\n",
    "from wrangle import split_data\n",
    "# from prepare import clean_data, get_hist, get_box, remove_outliers, train_validate_test_split\n",
    "# from explore import explore_univariate, exp_bivariate_categorical, exp_bivariate_continuous, exp_multivariate, exp_bivariate_categorical\n",
    "# from evaluate import scale_it, rfe, select_kbest, get_baseline, get_residuals, plot_residual, regression_errors, baseline_mean_errors, better_than_baseline\n",
    "# from model import model_baseline, linear_regression, tweedieregressor, lassolars, polynomialregression, model_test, plot_test_residuals, plot_distributions\n",
    "\n",
    "\n",
    "#Hypothesis alpha\n",
    "alpha = .05"
   ]
  },
  {
   "cell_type": "code",
   "execution_count": 2,
   "metadata": {},
   "outputs": [],
   "source": [
    "df = get_zillow_data()"
   ]
  },
  {
   "cell_type": "code",
   "execution_count": 3,
   "metadata": {},
   "outputs": [
    {
     "data": {
      "text/html": [
       "<div>\n",
       "<style scoped>\n",
       "    .dataframe tbody tr th:only-of-type {\n",
       "        vertical-align: middle;\n",
       "    }\n",
       "\n",
       "    .dataframe tbody tr th {\n",
       "        vertical-align: top;\n",
       "    }\n",
       "\n",
       "    .dataframe thead th {\n",
       "        text-align: right;\n",
       "    }\n",
       "</style>\n",
       "<table border=\"1\" class=\"dataframe\">\n",
       "  <thead>\n",
       "    <tr style=\"text-align: right;\">\n",
       "      <th></th>\n",
       "      <th>bedrooms</th>\n",
       "      <th>bathrooms</th>\n",
       "      <th>square_feet</th>\n",
       "      <th>year</th>\n",
       "      <th>tax_of_property</th>\n",
       "      <th>tax_assessed_value_target</th>\n",
       "      <th>fips</th>\n",
       "      <th>zip_code</th>\n",
       "      <th>transaction_date</th>\n",
       "    </tr>\n",
       "  </thead>\n",
       "  <tbody>\n",
       "    <tr>\n",
       "      <th>0</th>\n",
       "      <td>2.0</td>\n",
       "      <td>1.0</td>\n",
       "      <td>775.0</td>\n",
       "      <td>1952.0</td>\n",
       "      <td>1056.05</td>\n",
       "      <td>74118.0</td>\n",
       "      <td>6037.0</td>\n",
       "      <td>96338.0</td>\n",
       "      <td>2017-09-18</td>\n",
       "    </tr>\n",
       "    <tr>\n",
       "      <th>1</th>\n",
       "      <td>4.0</td>\n",
       "      <td>2.0</td>\n",
       "      <td>1497.0</td>\n",
       "      <td>1949.0</td>\n",
       "      <td>6793.40</td>\n",
       "      <td>557360.0</td>\n",
       "      <td>6037.0</td>\n",
       "      <td>96420.0</td>\n",
       "      <td>2017-09-18</td>\n",
       "    </tr>\n",
       "    <tr>\n",
       "      <th>2</th>\n",
       "      <td>3.0</td>\n",
       "      <td>2.0</td>\n",
       "      <td>1337.0</td>\n",
       "      <td>1956.0</td>\n",
       "      <td>5314.35</td>\n",
       "      <td>459600.0</td>\n",
       "      <td>6037.0</td>\n",
       "      <td>96161.0</td>\n",
       "      <td>2017-09-18</td>\n",
       "    </tr>\n",
       "    <tr>\n",
       "      <th>3</th>\n",
       "      <td>4.0</td>\n",
       "      <td>2.0</td>\n",
       "      <td>1631.0</td>\n",
       "      <td>2002.0</td>\n",
       "      <td>3294.29</td>\n",
       "      <td>262657.0</td>\n",
       "      <td>6037.0</td>\n",
       "      <td>96361.0</td>\n",
       "      <td>2017-09-18</td>\n",
       "    </tr>\n",
       "    <tr>\n",
       "      <th>4</th>\n",
       "      <td>3.0</td>\n",
       "      <td>3.0</td>\n",
       "      <td>1454.0</td>\n",
       "      <td>1989.0</td>\n",
       "      <td>2410.40</td>\n",
       "      <td>130027.0</td>\n",
       "      <td>6037.0</td>\n",
       "      <td>97318.0</td>\n",
       "      <td>2017-09-18</td>\n",
       "    </tr>\n",
       "  </tbody>\n",
       "</table>\n",
       "</div>"
      ],
      "text/plain": [
       "   bedrooms  bathrooms  square_feet    year  tax_of_property  \\\n",
       "0       2.0        1.0        775.0  1952.0          1056.05   \n",
       "1       4.0        2.0       1497.0  1949.0          6793.40   \n",
       "2       3.0        2.0       1337.0  1956.0          5314.35   \n",
       "3       4.0        2.0       1631.0  2002.0          3294.29   \n",
       "4       3.0        3.0       1454.0  1989.0          2410.40   \n",
       "\n",
       "   tax_assessed_value_target    fips  zip_code transaction_date  \n",
       "0                    74118.0  6037.0   96338.0       2017-09-18  \n",
       "1                   557360.0  6037.0   96420.0       2017-09-18  \n",
       "2                   459600.0  6037.0   96161.0       2017-09-18  \n",
       "3                   262657.0  6037.0   96361.0       2017-09-18  \n",
       "4                   130027.0  6037.0   97318.0       2017-09-18  "
      ]
     },
     "execution_count": 3,
     "metadata": {},
     "output_type": "execute_result"
    }
   ],
   "source": [
    "df.head()\n"
   ]
  },
  {
   "cell_type": "code",
   "execution_count": 4,
   "metadata": {},
   "outputs": [
    {
     "name": "stdout",
     "output_type": "stream",
     "text": [
      "<class 'pandas.core.frame.DataFrame'>\n",
      "RangeIndex: 52441 entries, 0 to 52440\n",
      "Data columns (total 9 columns):\n",
      " #   Column                     Non-Null Count  Dtype  \n",
      "---  ------                     --------------  -----  \n",
      " 0   bedrooms                   52441 non-null  float64\n",
      " 1   bathrooms                  52441 non-null  float64\n",
      " 2   square_feet                52359 non-null  float64\n",
      " 3   year                       52325 non-null  float64\n",
      " 4   tax_of_property            52437 non-null  float64\n",
      " 5   tax_assessed_value_target  52440 non-null  float64\n",
      " 6   fips                       52441 non-null  float64\n",
      " 7   zip_code                   52415 non-null  float64\n",
      " 8   transaction_date           52441 non-null  object \n",
      "dtypes: float64(8), object(1)\n",
      "memory usage: 3.6+ MB\n"
     ]
    }
   ],
   "source": [
    "df.info()"
   ]
  },
  {
   "cell_type": "markdown",
   "metadata": {},
   "source": [
    "## Note:\n",
    "Data was retrived using SQL and the names of the columns\n",
    "\n",
    "- bedroomcnt as bedrooms\n",
    "- calculatedfinishedsquarefeet as square_feet\n",
    "- yearbuilt as year\n",
    "- taxamount as tax_of_property\n",
    "- axvaluedollarcnt as tax_assessed_value_target\n",
    "- fips as fips\n",
    "- regionidzip as zip_code\n",
    "- transactiondate as transaction_date\n",
    "\n",
    "# Initial questions\n",
    "\n",
    "- Does zipcode affect `tax_assessed_value_target` ---> x = zip_code\n",
    "- Does the size of the house affect `tax_assessed_value_target` ---> x = square_feet\n",
    "- Does the amount of bathrooms and bedrooms affect `tax_assessed_value_target` --> x = rooms_&_bathrooms (feature engeniering by adding rooms and bathrooms)\n",
    "- "
   ]
  },
  {
   "cell_type": "code",
   "execution_count": 5,
   "metadata": {},
   "outputs": [
    {
     "data": {
      "text/plain": [
       "(52441, 9)"
      ]
     },
     "execution_count": 5,
     "metadata": {},
     "output_type": "execute_result"
    }
   ],
   "source": [
    "df.shape"
   ]
  },
  {
   "cell_type": "code",
   "execution_count": 6,
   "metadata": {},
   "outputs": [
    {
     "name": "stdout",
     "output_type": "stream",
     "text": [
      "<class 'pandas.core.frame.DataFrame'>\n",
      "RangeIndex: 52441 entries, 0 to 52440\n",
      "Data columns (total 9 columns):\n",
      " #   Column                     Non-Null Count  Dtype  \n",
      "---  ------                     --------------  -----  \n",
      " 0   bedrooms                   52441 non-null  float64\n",
      " 1   bathrooms                  52441 non-null  float64\n",
      " 2   square_feet                52359 non-null  float64\n",
      " 3   year                       52325 non-null  float64\n",
      " 4   tax_of_property            52437 non-null  float64\n",
      " 5   tax_assessed_value_target  52440 non-null  float64\n",
      " 6   fips                       52441 non-null  float64\n",
      " 7   zip_code                   52415 non-null  float64\n",
      " 8   transaction_date           52441 non-null  object \n",
      "dtypes: float64(8), object(1)\n",
      "memory usage: 3.6+ MB\n"
     ]
    }
   ],
   "source": [
    "df.info()"
   ]
  },
  {
   "cell_type": "code",
   "execution_count": 7,
   "metadata": {},
   "outputs": [],
   "source": [
    "# convert treansaction_date to date object type\n",
    "df['transaction_date'] = pd.to_datetime(df['transaction_date'])"
   ]
  },
  {
   "cell_type": "code",
   "execution_count": 8,
   "metadata": {},
   "outputs": [
    {
     "name": "stdout",
     "output_type": "stream",
     "text": [
      "<class 'pandas.core.frame.DataFrame'>\n",
      "RangeIndex: 52441 entries, 0 to 52440\n",
      "Data columns (total 9 columns):\n",
      " #   Column                     Non-Null Count  Dtype         \n",
      "---  ------                     --------------  -----         \n",
      " 0   bedrooms                   52441 non-null  float64       \n",
      " 1   bathrooms                  52441 non-null  float64       \n",
      " 2   square_feet                52359 non-null  float64       \n",
      " 3   year                       52325 non-null  float64       \n",
      " 4   tax_of_property            52437 non-null  float64       \n",
      " 5   tax_assessed_value_target  52440 non-null  float64       \n",
      " 6   fips                       52441 non-null  float64       \n",
      " 7   zip_code                   52415 non-null  float64       \n",
      " 8   transaction_date           52441 non-null  datetime64[ns]\n",
      "dtypes: datetime64[ns](1), float64(8)\n",
      "memory usage: 3.6 MB\n"
     ]
    }
   ],
   "source": [
    "df.info()"
   ]
  },
  {
   "cell_type": "code",
   "execution_count": 9,
   "metadata": {},
   "outputs": [
    {
     "data": {
      "text/plain": [
       "bedrooms                       0\n",
       "bathrooms                      0\n",
       "square_feet                   82\n",
       "year                         116\n",
       "tax_of_property                4\n",
       "tax_assessed_value_target      1\n",
       "fips                           0\n",
       "zip_code                      26\n",
       "transaction_date               0\n",
       "dtype: int64"
      ]
     },
     "execution_count": 9,
     "metadata": {},
     "output_type": "execute_result"
    }
   ],
   "source": [
    "# There are some null values\n",
    "df.isnull().sum()"
   ]
  },
  {
   "cell_type": "code",
   "execution_count": 10,
   "metadata": {},
   "outputs": [
    {
     "data": {
      "text/plain": [
       "'total records that contain null values 229'"
      ]
     },
     "execution_count": 10,
     "metadata": {},
     "output_type": "execute_result"
    }
   ],
   "source": [
    "f'total records that contain null values {df.isnull().sum().sum()}'"
   ]
  },
  {
   "cell_type": "code",
   "execution_count": 11,
   "metadata": {},
   "outputs": [
    {
     "data": {
      "text/plain": [
       "array(['bedrooms', 'bathrooms', 'square_feet', 'year', 'tax_of_property',\n",
       "       'tax_assessed_value_target', 'fips', 'zip_code',\n",
       "       'transaction_date'], dtype=object)"
      ]
     },
     "execution_count": 11,
     "metadata": {},
     "output_type": "execute_result"
    }
   ],
   "source": [
    "# Create list of the names of the columsn \n",
    "df.columns.values"
   ]
  },
  {
   "cell_type": "code",
   "execution_count": 12,
   "metadata": {},
   "outputs": [
    {
     "name": "stdout",
     "output_type": "stream",
     "text": [
      "BEDROOMS\n",
      "14.0      1\n",
      "11.0      1\n",
      "10.0      2\n",
      "12.0      3\n",
      "9.0       8\n",
      "8.0      24\n",
      "7.0     106\n",
      "0.0     137\n",
      "1.0     612\n",
      "6.0     635\n",
      "Name: bedrooms, dtype: int64\n",
      "BATHROOMS\n",
      "13.0     1\n",
      "18.0     1\n",
      "11.0     3\n",
      "8.5      3\n",
      "10.0     5\n",
      "9.0     13\n",
      "7.5     16\n",
      "6.5     47\n",
      "8.0     53\n",
      "7.0     88\n",
      "Name: bathrooms, dtype: int64\n",
      "SQUARE_FEET\n",
      "4566.0     1\n",
      "3103.0     1\n",
      "11704.0    1\n",
      "3861.0     1\n",
      "4967.0     1\n",
      "4780.0     1\n",
      "4357.0     1\n",
      "4203.0     1\n",
      "7770.0     1\n",
      "4536.0     1\n",
      "Name: square_feet, dtype: int64\n",
      "YEAR\n",
      "1889.0    1\n",
      "1880.0    1\n",
      "1882.0    1\n",
      "1897.0    1\n",
      "1878.0    1\n",
      "1892.0    1\n",
      "1894.0    1\n",
      "1893.0    3\n",
      "2016.0    3\n",
      "1887.0    3\n",
      "Name: year, dtype: int64\n",
      "TAX_OF_PROPERTY\n",
      "1136.39     1\n",
      "2818.02     1\n",
      "3857.22     1\n",
      "4871.52     1\n",
      "15512.71    1\n",
      "5838.96     1\n",
      "9969.72     1\n",
      "1602.96     1\n",
      "19379.20    1\n",
      "872.36      1\n",
      "Name: tax_of_property, dtype: int64\n",
      "TAX_ASSESSED_VALUE_TARGET\n",
      "NaN          1\n",
      "416775.0     1\n",
      "358482.0     1\n",
      "114633.0     1\n",
      "1555151.0    1\n",
      "1614974.0    1\n",
      "382322.0     1\n",
      "762655.0     1\n",
      "296960.0     1\n",
      "49636.0      1\n",
      "Name: tax_assessed_value_target, dtype: int64\n",
      "FIPS\n",
      "6111.0     4395\n",
      "6059.0    14136\n",
      "6037.0    33910\n",
      "Name: fips, dtype: int64\n",
      "ZIP_CODE\n",
      "97092.0    1\n",
      "96467.0    1\n",
      "96148.0    1\n",
      "96038.0    1\n",
      "97088.0    1\n",
      "96434.0    2\n",
      "95996.0    2\n",
      "96323.0    2\n",
      "96002.0    2\n",
      "96039.0    2\n",
      "Name: zip_code, dtype: int64\n",
      "TRANSACTION_DATE\n",
      "2017-05-13    1\n",
      "2017-06-03    1\n",
      "2017-09-20    1\n",
      "2017-08-13    1\n",
      "2017-09-09    1\n",
      "2017-03-11    1\n",
      "2017-09-10    1\n",
      "2017-05-07    1\n",
      "2017-08-12    1\n",
      "2017-06-11    1\n",
      "Name: transaction_date, dtype: int64\n"
     ]
    }
   ],
   "source": [
    "# Create value counts to see upper outliers\n",
    "cols = df.columns.values\n",
    "for col in cols:\n",
    "    print(col.upper())\n",
    "    print(df[col].value_counts(dropna=False,ascending=True).head(10))"
   ]
  },
  {
   "cell_type": "code",
   "execution_count": 13,
   "metadata": {},
   "outputs": [
    {
     "name": "stdout",
     "output_type": "stream",
     "text": [
      "BEDROOMS\n",
      "14.0        1\n",
      "11.0        1\n",
      "10.0        2\n",
      "12.0        3\n",
      "9.0         8\n",
      "8.0        24\n",
      "7.0       106\n",
      "0.0       137\n",
      "1.0       612\n",
      "6.0       635\n",
      "5.0      3973\n",
      "2.0      8340\n",
      "4.0     15240\n",
      "3.0     23359\n",
      "Name: bedrooms, dtype: int64\n",
      "BATHROOMS\n",
      "13.0        1\n",
      "18.0        1\n",
      "11.0        3\n",
      "8.5         3\n",
      "10.0        5\n",
      "9.0        13\n",
      "7.5        16\n",
      "6.5        47\n",
      "8.0        53\n",
      "7.0        88\n",
      "0.0       121\n",
      "5.5       224\n",
      "6.0       322\n",
      "4.5       687\n",
      "5.0       803\n",
      "1.5       841\n",
      "3.5       918\n",
      "4.0      2227\n",
      "2.5      3934\n",
      "1.0      9568\n",
      "3.0     10673\n",
      "2.0     21893\n",
      "Name: bathrooms, dtype: int64\n",
      "SQUARE_FEET\n",
      "1032.0     64\n",
      "1242.0     65\n",
      "1372.0     65\n",
      "1288.0     66\n",
      "1560.0     66\n",
      "1540.0     67\n",
      "864.0      67\n",
      "1064.0     68\n",
      "1008.0     69\n",
      "1480.0     70\n",
      "1536.0     70\n",
      "1248.0     70\n",
      "1320.0     71\n",
      "1144.0     72\n",
      "1240.0     73\n",
      "1472.0     73\n",
      "1260.0     73\n",
      "1440.0     77\n",
      "1296.0     78\n",
      "1300.0     78\n",
      "1570.0     79\n",
      "NaN        82\n",
      "1232.0     83\n",
      "1400.0     83\n",
      "1176.0     84\n",
      "936.0      86\n",
      "1040.0     86\n",
      "1080.0    102\n",
      "1200.0    119\n",
      "1120.0    128\n",
      "Name: square_feet, dtype: int64\n",
      "YEAR\n",
      "1990.0     596\n",
      "1979.0     606\n",
      "1968.0     616\n",
      "1969.0     622\n",
      "1978.0     644\n",
      "1987.0     667\n",
      "1972.0     699\n",
      "1973.0     705\n",
      "1976.0     733\n",
      "1958.0     787\n",
      "1977.0     802\n",
      "1961.0     816\n",
      "1989.0     833\n",
      "1960.0     877\n",
      "1948.0     932\n",
      "1949.0     972\n",
      "1965.0     987\n",
      "1962.0    1000\n",
      "1947.0    1008\n",
      "1957.0    1010\n",
      "1963.0    1017\n",
      "1959.0    1066\n",
      "1951.0    1190\n",
      "1952.0    1202\n",
      "1964.0    1305\n",
      "1956.0    1387\n",
      "1953.0    1485\n",
      "1954.0    1520\n",
      "1950.0    1608\n",
      "1955.0    1899\n",
      "Name: year, dtype: int64\n",
      "TAX_OF_PROPERTY\n",
      "2319.90     3\n",
      "1066.07     3\n",
      "30342.87    3\n",
      "3347.58     3\n",
      "1929.18     3\n",
      "3563.06     3\n",
      "5505.30     3\n",
      "627.52      3\n",
      "5871.38     3\n",
      "2217.31     3\n",
      "4841.72     3\n",
      "4042.46     3\n",
      "5220.54     3\n",
      "4376.76     3\n",
      "2839.48     3\n",
      "1449.99     3\n",
      "777.51      3\n",
      "1404.44     3\n",
      "855.16      3\n",
      "5165.64     3\n",
      "955.88      3\n",
      "1625.61     3\n",
      "4386.16     3\n",
      "3509.14     3\n",
      "5504.50     3\n",
      "2914.16     3\n",
      "1043.38     3\n",
      "5247.06     3\n",
      "345.72      4\n",
      "NaN         4\n",
      "Name: tax_of_property, dtype: int64\n",
      "TAX_ASSESSED_VALUE_TARGET\n",
      "610000.0    17\n",
      "420000.0    17\n",
      "300000.0    17\n",
      "375000.0    17\n",
      "515000.0    17\n",
      "400000.0    18\n",
      "620000.0    18\n",
      "545000.0    18\n",
      "605000.0    18\n",
      "430000.0    18\n",
      "485000.0    18\n",
      "350000.0    19\n",
      "640000.0    19\n",
      "495000.0    20\n",
      "700000.0    20\n",
      "505000.0    20\n",
      "435000.0    20\n",
      "560000.0    20\n",
      "421328.0    21\n",
      "480000.0    21\n",
      "585000.0    21\n",
      "590000.0    21\n",
      "650000.0    21\n",
      "530000.0    22\n",
      "520000.0    22\n",
      "500000.0    24\n",
      "550000.0    24\n",
      "450000.0    24\n",
      "600000.0    30\n",
      "455000.0    34\n",
      "Name: tax_assessed_value_target, dtype: int64\n",
      "FIPS\n",
      "6111.0     4395\n",
      "6059.0    14136\n",
      "6037.0    33910\n",
      "Name: fips, dtype: int64\n",
      "ZIP_CODE\n",
      "96387.0    276\n",
      "96122.0    277\n",
      "97089.0    277\n",
      "96978.0    280\n",
      "97026.0    280\n",
      "97008.0    282\n",
      "96368.0    283\n",
      "96364.0    287\n",
      "96990.0    292\n",
      "97068.0    294\n",
      "96964.0    306\n",
      "96242.0    314\n",
      "96186.0    321\n",
      "96962.0    331\n",
      "96370.0    344\n",
      "96351.0    344\n",
      "96995.0    347\n",
      "97317.0    348\n",
      "97330.0    356\n",
      "96989.0    356\n",
      "97116.0    367\n",
      "96996.0    381\n",
      "97078.0    391\n",
      "96193.0    424\n",
      "96987.0    473\n",
      "97118.0    498\n",
      "97328.0    519\n",
      "97329.0    564\n",
      "97318.0    674\n",
      "97319.0    776\n",
      "Name: zip_code, dtype: int64\n",
      "TRANSACTION_DATE\n",
      "2017-04-21    368\n",
      "2017-05-25    373\n",
      "2017-06-09    380\n",
      "2017-02-28    382\n",
      "2017-04-14    387\n",
      "2017-08-30    387\n",
      "2017-03-28    387\n",
      "2017-06-02    391\n",
      "2017-07-14    406\n",
      "2017-06-01    410\n",
      "2017-06-29    410\n",
      "2017-05-12    412\n",
      "2017-08-11    415\n",
      "2017-03-24    417\n",
      "2017-05-05    422\n",
      "2017-05-19    424\n",
      "2017-07-31    425\n",
      "2017-09-08    426\n",
      "2017-09-01    444\n",
      "2017-08-25    472\n",
      "2017-07-07    490\n",
      "2017-06-23    493\n",
      "2017-03-31    506\n",
      "2017-06-16    509\n",
      "2017-05-26    509\n",
      "2017-08-31    528\n",
      "2017-07-28    546\n",
      "2017-05-31    566\n",
      "2017-04-28    617\n",
      "2017-06-30    810\n",
      "Name: transaction_date, dtype: int64\n"
     ]
    }
   ],
   "source": [
    "# Create value counts to see lower end outliers\n",
    "cols = df.columns.values\n",
    "for col in cols:\n",
    "    print(col.upper())\n",
    "    print(df[col].value_counts(dropna=False,ascending=True).tail(30))"
   ]
  },
  {
   "cell_type": "code",
   "execution_count": 14,
   "metadata": {},
   "outputs": [
    {
     "data": {
      "text/plain": [
       "6037.0    33910\n",
       "6059.0    14136\n",
       "6111.0     4395\n",
       "Name: fips, dtype: int64"
      ]
     },
     "execution_count": 14,
     "metadata": {},
     "output_type": "execute_result"
    }
   ],
   "source": [
    "df.fips.value_counts()"
   ]
  },
  {
   "cell_type": "markdown",
   "metadata": {},
   "source": [
    "## Takeaway \n",
    "\n",
    "- There are some null values. We will remove the those records \n",
    "    - 229 values\n",
    "- I will drop year built as \n",
    "- Drop trasaction date as we won't be using it to predict our target value\n",
    "- There are some ovious outliers that I will pull out before xpliting the data\n",
    "    - Bedrooms (4 record)\n",
    "        - 14\n",
    "        - 11\n",
    "        - 10\n",
    "    - Bathrooms (4 records)\n",
    "        - 13\n",
    "        - 18\n",
    "        - 8.5"
   ]
  },
  {
   "cell_type": "code",
   "execution_count": 15,
   "metadata": {},
   "outputs": [
    {
     "name": "stdout",
     "output_type": "stream",
     "text": [
      "       bedrooms  bathrooms  square_feet    year  tax_of_property  \\\n",
      "10862       7.0       13.0      20612.0  1994.0         149026.6   \n",
      "\n",
      "       tax_assessed_value_target    fips  zip_code transaction_date  \n",
      "10862                 12386870.0  6037.0   96086.0       2017-04-07  \n",
      "       bedrooms  bathrooms  square_feet    year  tax_of_property  \\\n",
      "15643      14.0       18.0      18654.0  1927.0         586639.3   \n",
      "\n",
      "       tax_assessed_value_target    fips  zip_code transaction_date  \n",
      "15643                 49061236.0  6037.0   96058.0       2017-02-08  \n",
      "       bedrooms  bathrooms  square_feet    year  tax_of_property  \\\n",
      "36707       7.0        8.5      11704.0  2004.0         75626.76   \n",
      "45004       4.0        8.5       7424.0  2010.0         83518.94   \n",
      "50245       6.0        8.5       9636.0     NaN         36259.12   \n",
      "\n",
      "       tax_assessed_value_target    fips  zip_code transaction_date  \n",
      "36707                  6572554.0  6059.0   96940.0       2017-04-28  \n",
      "45004                  7491448.0  6059.0   96975.0       2017-04-12  \n",
      "50245                  3337526.0  6111.0   96116.0       2017-07-11  \n"
     ]
    }
   ],
   "source": [
    "print(df[df.bathrooms == 13])\n",
    "print(df[df.bathrooms == 18])\n",
    "print(df[df.bathrooms == 8.5])"
   ]
  },
  {
   "cell_type": "code",
   "execution_count": 16,
   "metadata": {},
   "outputs": [
    {
     "data": {
      "text/plain": [
       "(52436, 9)"
      ]
     },
     "execution_count": 16,
     "metadata": {},
     "output_type": "execute_result"
    }
   ],
   "source": [
    "# #~ means oposit-to-what the function is calling\n",
    "df  = df[~df.index.isin([ 10862, 15643, 36707, 45004, 50245])]\n",
    "df.shape\n",
    "\n",
    "# #  bring all recors expet the 15649\n",
    "# dfcopy[dfcopy.index != 15643]\n",
    "# # rewrites the dataframe withot record\n",
    "# dfcopy = dfcopy[dfcopy.index != 15643]\n",
    "\n"
   ]
  },
  {
   "cell_type": "markdown",
   "metadata": {},
   "source": [
    "## Takeaway \n",
    "\n",
    "- There are some null values. We will remove the those records \n",
    "    - 229 values\n",
    "- I will drop year built \n",
    "- Drop trasaction date as we won't be using it to predict our target value\n",
    "- Drop houses that do not have a bathroom. Houses with 0 room can be studios or open floor layout\n",
    "- Drop null values as they do not affect the size of our data significantly\n",
    "- Drop houses smaller than 200 sqft\n",
    "\n"
   ]
  },
  {
   "cell_type": "code",
   "execution_count": 17,
   "metadata": {},
   "outputs": [
    {
     "data": {
      "text/plain": [
       "228"
      ]
     },
     "execution_count": 17,
     "metadata": {},
     "output_type": "execute_result"
    }
   ],
   "source": [
    "df.isnull().sum().sum()"
   ]
  },
  {
   "cell_type": "code",
   "execution_count": 18,
   "metadata": {},
   "outputs": [
    {
     "data": {
      "text/plain": [
       "bedrooms                     0\n",
       "bathrooms                    0\n",
       "square_feet                  0\n",
       "year                         0\n",
       "tax_of_property              0\n",
       "tax_assessed_value_target    0\n",
       "fips                         0\n",
       "zip_code                     0\n",
       "transaction_date             0\n",
       "dtype: int64"
      ]
     },
     "execution_count": 18,
     "metadata": {},
     "output_type": "execute_result"
    }
   ],
   "source": [
    "# dropping nulls\n",
    "df = df.dropna()\n",
    "df.isnull().sum()"
   ]
  },
  {
   "cell_type": "code",
   "execution_count": 19,
   "metadata": {},
   "outputs": [
    {
     "data": {
      "text/html": [
       "<div>\n",
       "<style scoped>\n",
       "    .dataframe tbody tr th:only-of-type {\n",
       "        vertical-align: middle;\n",
       "    }\n",
       "\n",
       "    .dataframe tbody tr th {\n",
       "        vertical-align: top;\n",
       "    }\n",
       "\n",
       "    .dataframe thead th {\n",
       "        text-align: right;\n",
       "    }\n",
       "</style>\n",
       "<table border=\"1\" class=\"dataframe\">\n",
       "  <thead>\n",
       "    <tr style=\"text-align: right;\">\n",
       "      <th></th>\n",
       "      <th>bedrooms</th>\n",
       "      <th>bathrooms</th>\n",
       "      <th>square_feet</th>\n",
       "      <th>year</th>\n",
       "      <th>tax_of_property</th>\n",
       "      <th>tax_assessed_value_target</th>\n",
       "      <th>fips</th>\n",
       "      <th>zip_code</th>\n",
       "      <th>transaction_date</th>\n",
       "    </tr>\n",
       "  </thead>\n",
       "  <tbody>\n",
       "    <tr>\n",
       "      <th>0</th>\n",
       "      <td>2.0</td>\n",
       "      <td>1.0</td>\n",
       "      <td>775.0</td>\n",
       "      <td>1952.0</td>\n",
       "      <td>1056.05</td>\n",
       "      <td>74118.0</td>\n",
       "      <td>6037.0</td>\n",
       "      <td>96338.0</td>\n",
       "      <td>2017-09-18</td>\n",
       "    </tr>\n",
       "  </tbody>\n",
       "</table>\n",
       "</div>"
      ],
      "text/plain": [
       "   bedrooms  bathrooms  square_feet    year  tax_of_property  \\\n",
       "0       2.0        1.0        775.0  1952.0          1056.05   \n",
       "\n",
       "   tax_assessed_value_target    fips  zip_code transaction_date  \n",
       "0                    74118.0  6037.0   96338.0       2017-09-18  "
      ]
     },
     "execution_count": 19,
     "metadata": {},
     "output_type": "execute_result"
    }
   ],
   "source": [
    "df.head(1)"
   ]
  },
  {
   "cell_type": "code",
   "execution_count": 20,
   "metadata": {},
   "outputs": [],
   "source": [
    "# drop transaction date\n",
    "df = df.drop(labels=[\"transaction_date\"], axis=1)"
   ]
  },
  {
   "cell_type": "code",
   "execution_count": 21,
   "metadata": {},
   "outputs": [
    {
     "data": {
      "text/html": [
       "<div>\n",
       "<style scoped>\n",
       "    .dataframe tbody tr th:only-of-type {\n",
       "        vertical-align: middle;\n",
       "    }\n",
       "\n",
       "    .dataframe tbody tr th {\n",
       "        vertical-align: top;\n",
       "    }\n",
       "\n",
       "    .dataframe thead th {\n",
       "        text-align: right;\n",
       "    }\n",
       "</style>\n",
       "<table border=\"1\" class=\"dataframe\">\n",
       "  <thead>\n",
       "    <tr style=\"text-align: right;\">\n",
       "      <th></th>\n",
       "      <th>bedrooms</th>\n",
       "      <th>bathrooms</th>\n",
       "      <th>square_feet</th>\n",
       "      <th>year</th>\n",
       "      <th>tax_of_property</th>\n",
       "      <th>tax_assessed_value_target</th>\n",
       "      <th>fips</th>\n",
       "      <th>zip_code</th>\n",
       "    </tr>\n",
       "  </thead>\n",
       "  <tbody>\n",
       "    <tr>\n",
       "      <th>0</th>\n",
       "      <td>2.0</td>\n",
       "      <td>1.0</td>\n",
       "      <td>775.0</td>\n",
       "      <td>1952.0</td>\n",
       "      <td>1056.05</td>\n",
       "      <td>74118.0</td>\n",
       "      <td>6037.0</td>\n",
       "      <td>96338.0</td>\n",
       "    </tr>\n",
       "  </tbody>\n",
       "</table>\n",
       "</div>"
      ],
      "text/plain": [
       "   bedrooms  bathrooms  square_feet    year  tax_of_property  \\\n",
       "0       2.0        1.0        775.0  1952.0          1056.05   \n",
       "\n",
       "   tax_assessed_value_target    fips  zip_code  \n",
       "0                    74118.0  6037.0   96338.0  "
      ]
     },
     "execution_count": 21,
     "metadata": {},
     "output_type": "execute_result"
    }
   ],
   "source": [
    "df.head(1)"
   ]
  },
  {
   "cell_type": "code",
   "execution_count": 22,
   "metadata": {},
   "outputs": [
    {
     "data": {
      "text/plain": [
       "(52292, 8)"
      ]
     },
     "execution_count": 22,
     "metadata": {},
     "output_type": "execute_result"
    }
   ],
   "source": [
    "df.shape"
   ]
  },
  {
   "cell_type": "code",
   "execution_count": 23,
   "metadata": {},
   "outputs": [
    {
     "data": {
      "text/plain": [
       "(52251, 8)"
      ]
     },
     "execution_count": 23,
     "metadata": {},
     "output_type": "execute_result"
    }
   ],
   "source": [
    "# Eliminate properties with 0 bathrooms \n",
    "# This eleminates 42 properties\n",
    "df = df[(df.bathrooms != 0)]\n",
    "df.shape\n",
    "# houses with 0 bedrooms are normal as long as they have atleast one bathroom "
   ]
  },
  {
   "cell_type": "code",
   "execution_count": 24,
   "metadata": {},
   "outputs": [
    {
     "data": {
      "text/plain": [
       "41"
      ]
     },
     "execution_count": 24,
     "metadata": {},
     "output_type": "execute_result"
    }
   ],
   "source": [
    "52292 - 52251"
   ]
  },
  {
   "cell_type": "code",
   "execution_count": 25,
   "metadata": {},
   "outputs": [
    {
     "data": {
      "text/plain": [
       "(52247, 8)"
      ]
     },
     "execution_count": 25,
     "metadata": {},
     "output_type": "execute_result"
    }
   ],
   "source": [
    "# Drop houses smaller than 200 \n",
    "df = df[df['square_feet'] > 300]\n",
    "df.shape"
   ]
  },
  {
   "cell_type": "code",
   "execution_count": 26,
   "metadata": {},
   "outputs": [
    {
     "data": {
      "text/plain": [
       "(50611, 8)"
      ]
     },
     "execution_count": 26,
     "metadata": {},
     "output_type": "execute_result"
    }
   ],
   "source": [
    "# Use z score to detect outliers\n",
    "z_scores = stats.zscore(df)\n",
    "abs_z_scores = np.abs(z_scores)\n",
    "filtered_entries = (abs_z_scores < 3).all(axis = 1)\n",
    "df = df[filtered_entries]\n",
    "df.shape"
   ]
  },
  {
   "cell_type": "markdown",
   "metadata": {},
   "source": [
    "### change float to interger"
   ]
  },
  {
   "cell_type": "code",
   "execution_count": 27,
   "metadata": {},
   "outputs": [
    {
     "name": "stdout",
     "output_type": "stream",
     "text": [
      "<class 'pandas.core.frame.DataFrame'>\n",
      "Int64Index: 50611 entries, 0 to 52440\n",
      "Data columns (total 8 columns):\n",
      " #   Column                     Non-Null Count  Dtype  \n",
      "---  ------                     --------------  -----  \n",
      " 0   bedrooms                   50611 non-null  float64\n",
      " 1   bathrooms                  50611 non-null  float64\n",
      " 2   square_feet                50611 non-null  float64\n",
      " 3   year                       50611 non-null  float64\n",
      " 4   tax_of_property            50611 non-null  float64\n",
      " 5   tax_assessed_value_target  50611 non-null  float64\n",
      " 6   fips                       50611 non-null  float64\n",
      " 7   zip_code                   50611 non-null  float64\n",
      "dtypes: float64(8)\n",
      "memory usage: 3.5 MB\n"
     ]
    }
   ],
   "source": [
    "df.info()"
   ]
  },
  {
   "cell_type": "code",
   "execution_count": 28,
   "metadata": {},
   "outputs": [],
   "source": [
    "\n",
    "df.year = df.year.astype(int)\n",
    "df.fips = df.fips.astype(int)\n",
    "df.zip_code = df.zip_code.astype(int)"
   ]
  },
  {
   "cell_type": "code",
   "execution_count": 29,
   "metadata": {},
   "outputs": [
    {
     "name": "stdout",
     "output_type": "stream",
     "text": [
      "<class 'pandas.core.frame.DataFrame'>\n",
      "Int64Index: 50611 entries, 0 to 52440\n",
      "Data columns (total 8 columns):\n",
      " #   Column                     Non-Null Count  Dtype  \n",
      "---  ------                     --------------  -----  \n",
      " 0   bedrooms                   50611 non-null  float64\n",
      " 1   bathrooms                  50611 non-null  float64\n",
      " 2   square_feet                50611 non-null  float64\n",
      " 3   year                       50611 non-null  int64  \n",
      " 4   tax_of_property            50611 non-null  float64\n",
      " 5   tax_assessed_value_target  50611 non-null  float64\n",
      " 6   fips                       50611 non-null  int64  \n",
      " 7   zip_code                   50611 non-null  int64  \n",
      "dtypes: float64(5), int64(3)\n",
      "memory usage: 3.5 MB\n"
     ]
    }
   ],
   "source": [
    "df.info()"
   ]
  },
  {
   "cell_type": "markdown",
   "metadata": {},
   "source": [
    "### visualize data"
   ]
  },
  {
   "cell_type": "code",
   "execution_count": 30,
   "metadata": {},
   "outputs": [
    {
     "data": {
      "image/png": "[encoded data removed]",
      "text/plain": [
       "<Figure size 720x504 with 1 Axes>"
      ]
     },
     "metadata": {
      "needs_background": "light"
     },
     "output_type": "display_data"
    }
   ],
   "source": [
    "# We don't want to plot the `year` and `zip_code` columns.\n",
    "\n",
    "plt.figure(figsize=(10,7))\n",
    "\n",
    "# Create boxplots for all\n",
    "sns.boxplot(data=df.drop(columns=['year', 'zip_code']))\n",
    "plt.show()"
   ]
  },
  {
   "cell_type": "code",
   "execution_count": 31,
   "metadata": {},
   "outputs": [
    {
     "data": {
      "text/plain": [
       "(50611, 8)"
      ]
     },
     "execution_count": 31,
     "metadata": {},
     "output_type": "execute_result"
    }
   ],
   "source": [
    "df2 = df\n",
    "df2.shape"
   ]
  },
  {
   "cell_type": "code",
   "execution_count": 32,
   "metadata": {},
   "outputs": [
    {
     "data": {
      "text/plain": [
       "(44472, 8)"
      ]
     },
     "execution_count": 32,
     "metadata": {},
     "output_type": "execute_result"
    }
   ],
   "source": [
    "df2 = remove_outliers(df, 1.5, ['bedrooms', 'bathrooms', 'square_feet', 'year', 'tax_of_property', 'tax_assessed_value_target', 'zip_code'])\n",
    "df2.shape"
   ]
  },
  {
   "cell_type": "code",
   "execution_count": 33,
   "metadata": {},
   "outputs": [
    {
     "data": {
      "text/plain": [
       "6139"
      ]
     },
     "execution_count": 33,
     "metadata": {},
     "output_type": "execute_result"
    }
   ],
   "source": [
    "50611 - 44472"
   ]
  },
  {
   "cell_type": "code",
   "execution_count": 34,
   "metadata": {},
   "outputs": [
    {
     "data": {
      "image/png": "[encoded data removed]",
      "text/plain": [
       "<Figure size 720x504 with 1 Axes>"
      ]
     },
     "metadata": {
      "needs_background": "light"
     },
     "output_type": "display_data"
    }
   ],
   "source": [
    "# We don't want to plot the `year` and `zip_code` columns.\n",
    "\n",
    "plt.figure(figsize=(10,7))\n",
    "\n",
    "# Create boxplots for all\n",
    "sns.boxplot(data=df.drop(columns=['year', 'zip_code', 'fips']))\n",
    "plt.show()"
   ]
  },
  {
   "cell_type": "code",
   "execution_count": 35,
   "metadata": {},
   "outputs": [
    {
     "data": {
      "text/plain": [
       "array([[<AxesSubplot:title={'center':'bedrooms'}>,\n",
       "        <AxesSubplot:title={'center':'bathrooms'}>,\n",
       "        <AxesSubplot:title={'center':'square_feet'}>],\n",
       "       [<AxesSubplot:title={'center':'year'}>,\n",
       "        <AxesSubplot:title={'center':'tax_of_property'}>,\n",
       "        <AxesSubplot:title={'center':'tax_assessed_value_target'}>],\n",
       "       [<AxesSubplot:title={'center':'fips'}>,\n",
       "        <AxesSubplot:title={'center':'zip_code'}>, <AxesSubplot:>]],\n",
       "      dtype=object)"
      ]
     },
     "execution_count": 35,
     "metadata": {},
     "output_type": "execute_result"
    },
    {
     "data": {
      "image/png": "[encoded data removed]",
      "text/plain": [
       "<Figure size 1728x720 with 9 Axes>"
      ]
     },
     "metadata": {
      "needs_background": "light"
     },
     "output_type": "display_data"
    }
   ],
   "source": [
    "df.hist(figsize=(24, 10), bins=20)\n"
   ]
  },
  {
   "cell_type": "code",
   "execution_count": 36,
   "metadata": {},
   "outputs": [
    {
     "data": {
      "image/png": "[encoded data removed]",
      "text/plain": [
       "<Figure size 1152x720 with 8 Axes>"
      ]
     },
     "metadata": {
      "needs_background": "light"
     },
     "output_type": "display_data"
    }
   ],
   "source": [
    "plt.figure(figsize=(16, 10))\n",
    "\n",
    "# List of columns\n",
    "cols = df.columns.values\n",
    "\n",
    "for i, col in enumerate(cols):\n",
    "\n",
    "    # i starts at 0, but plot nos should start at 1\n",
    "    plot_number = i + 1 \n",
    "\n",
    "    # Create subplot.\n",
    "    plt.subplot(2,4, plot_number)\n",
    "\n",
    "    # Title with column name.\n",
    "    plt.title(col)\n",
    "\n",
    "    # Display histogram for column.\n",
    "    df[col].hist(bins=5)\n",
    "\n",
    "    # Hide gridlines.\n",
    "    plt.grid(False)"
   ]
  },
  {
   "cell_type": "code",
   "execution_count": 37,
   "metadata": {},
   "outputs": [
    {
     "data": {
      "text/html": [
       "<div>\n",
       "<style scoped>\n",
       "    .dataframe tbody tr th:only-of-type {\n",
       "        vertical-align: middle;\n",
       "    }\n",
       "\n",
       "    .dataframe tbody tr th {\n",
       "        vertical-align: top;\n",
       "    }\n",
       "\n",
       "    .dataframe thead th {\n",
       "        text-align: right;\n",
       "    }\n",
       "</style>\n",
       "<table border=\"1\" class=\"dataframe\">\n",
       "  <thead>\n",
       "    <tr style=\"text-align: right;\">\n",
       "      <th></th>\n",
       "      <th>count</th>\n",
       "      <th>mean</th>\n",
       "      <th>std</th>\n",
       "      <th>min</th>\n",
       "      <th>25%</th>\n",
       "      <th>50%</th>\n",
       "      <th>75%</th>\n",
       "      <th>max</th>\n",
       "    </tr>\n",
       "  </thead>\n",
       "  <tbody>\n",
       "    <tr>\n",
       "      <th>bedrooms</th>\n",
       "      <td>50611.0</td>\n",
       "      <td>3.262552</td>\n",
       "      <td>0.880077</td>\n",
       "      <td>1.00</td>\n",
       "      <td>3.00</td>\n",
       "      <td>3.00</td>\n",
       "      <td>4.000</td>\n",
       "      <td>6.00</td>\n",
       "    </tr>\n",
       "    <tr>\n",
       "      <th>bathrooms</th>\n",
       "      <td>50611.0</td>\n",
       "      <td>2.216544</td>\n",
       "      <td>0.859171</td>\n",
       "      <td>1.00</td>\n",
       "      <td>2.00</td>\n",
       "      <td>2.00</td>\n",
       "      <td>3.000</td>\n",
       "      <td>5.00</td>\n",
       "    </tr>\n",
       "    <tr>\n",
       "      <th>square_feet</th>\n",
       "      <td>50611.0</td>\n",
       "      <td>1824.654067</td>\n",
       "      <td>772.181524</td>\n",
       "      <td>326.00</td>\n",
       "      <td>1257.00</td>\n",
       "      <td>1633.00</td>\n",
       "      <td>2230.000</td>\n",
       "      <td>4908.00</td>\n",
       "    </tr>\n",
       "    <tr>\n",
       "      <th>year</th>\n",
       "      <td>50611.0</td>\n",
       "      <td>1962.916164</td>\n",
       "      <td>22.679765</td>\n",
       "      <td>1895.00</td>\n",
       "      <td>1950.00</td>\n",
       "      <td>1960.00</td>\n",
       "      <td>1978.000</td>\n",
       "      <td>2016.00</td>\n",
       "    </tr>\n",
       "    <tr>\n",
       "      <th>tax_of_property</th>\n",
       "      <td>50611.0</td>\n",
       "      <td>5546.834440</td>\n",
       "      <td>4398.874602</td>\n",
       "      <td>49.18</td>\n",
       "      <td>2600.62</td>\n",
       "      <td>4531.16</td>\n",
       "      <td>7041.535</td>\n",
       "      <td>31261.97</td>\n",
       "    </tr>\n",
       "    <tr>\n",
       "      <th>tax_assessed_value_target</th>\n",
       "      <td>50611.0</td>\n",
       "      <td>451163.183023</td>\n",
       "      <td>380260.513565</td>\n",
       "      <td>1000.00</td>\n",
       "      <td>188411.50</td>\n",
       "      <td>363459.00</td>\n",
       "      <td>588501.500</td>\n",
       "      <td>2665031.00</td>\n",
       "    </tr>\n",
       "    <tr>\n",
       "      <th>fips</th>\n",
       "      <td>50611.0</td>\n",
       "      <td>6049.075162</td>\n",
       "      <td>20.994742</td>\n",
       "      <td>6037.00</td>\n",
       "      <td>6037.00</td>\n",
       "      <td>6037.00</td>\n",
       "      <td>6059.000</td>\n",
       "      <td>6111.00</td>\n",
       "    </tr>\n",
       "    <tr>\n",
       "      <th>zip_code</th>\n",
       "      <td>50611.0</td>\n",
       "      <td>96569.137520</td>\n",
       "      <td>421.169380</td>\n",
       "      <td>95982.00</td>\n",
       "      <td>96208.00</td>\n",
       "      <td>96415.00</td>\n",
       "      <td>96996.000</td>\n",
       "      <td>97344.00</td>\n",
       "    </tr>\n",
       "  </tbody>\n",
       "</table>\n",
       "</div>"
      ],
      "text/plain": [
       "                             count           mean            std       min  \\\n",
       "bedrooms                   50611.0       3.262552       0.880077      1.00   \n",
       "bathrooms                  50611.0       2.216544       0.859171      1.00   \n",
       "square_feet                50611.0    1824.654067     772.181524    326.00   \n",
       "year                       50611.0    1962.916164      22.679765   1895.00   \n",
       "tax_of_property            50611.0    5546.834440    4398.874602     49.18   \n",
       "tax_assessed_value_target  50611.0  451163.183023  380260.513565   1000.00   \n",
       "fips                       50611.0    6049.075162      20.994742   6037.00   \n",
       "zip_code                   50611.0   96569.137520     421.169380  95982.00   \n",
       "\n",
       "                                 25%        50%         75%         max  \n",
       "bedrooms                        3.00       3.00       4.000        6.00  \n",
       "bathrooms                       2.00       2.00       3.000        5.00  \n",
       "square_feet                  1257.00    1633.00    2230.000     4908.00  \n",
       "year                         1950.00    1960.00    1978.000     2016.00  \n",
       "tax_of_property              2600.62    4531.16    7041.535    31261.97  \n",
       "tax_assessed_value_target  188411.50  363459.00  588501.500  2665031.00  \n",
       "fips                         6037.00    6037.00    6059.000     6111.00  \n",
       "zip_code                    96208.00   96415.00   96996.000    97344.00  "
      ]
     },
     "execution_count": 37,
     "metadata": {},
     "output_type": "execute_result"
    }
   ],
   "source": [
    "df.describe().T"
   ]
  },
  {
   "cell_type": "code",
   "execution_count": 38,
   "metadata": {},
   "outputs": [
    {
     "name": "stdout",
     "output_type": "stream",
     "text": [
      "Here is a histogram of the dataset we will be working with.\n"
     ]
    },
    {
     "data": {
      "image/png": "[encoded data removed]",
      "text/plain": [
       "<Figure size 432x288 with 1 Axes>"
      ]
     },
     "metadata": {
      "needs_background": "light"
     },
     "output_type": "display_data"
    }
   ],
   "source": [
    "np.random.seed(123)\n",
    "\n",
    "x = stats.skewnorm(7).rvs(1500) * 10 + 100\n",
    "x = x.reshape(-1, 1)\n",
    "\n",
    "plt.hist(x, bins=25, ec='black')\n",
    "print('Here is a histogram of the dataset we will be working with.')"
   ]
  },
  {
   "cell_type": "code",
   "execution_count": null,
   "metadata": {},
   "outputs": [],
   "source": []
  },
  {
   "cell_type": "code",
   "execution_count": null,
   "metadata": {},
   "outputs": [],
   "source": []
  },
  {
   "cell_type": "markdown",
   "metadata": {},
   "source": [
    "### For the first iteration of your model, use only square feet of the home, number of bedrooms, and number of bathrooms to estimate the property's assessed value, taxvaluedollarcnt. You can expand this to other fields after you have completed an mvp (minimally viable product)."
   ]
  },
  {
   "cell_type": "code",
   "execution_count": 39,
   "metadata": {},
   "outputs": [
    {
     "data": {
      "image/png": "[encoded data removed]",
      "text/plain": [
       "<Figure size 1440x720 with 7 Axes>"
      ]
     },
     "metadata": {
      "needs_background": "light"
     },
     "output_type": "display_data"
    }
   ],
   "source": [
    "# List of columns\n",
    "cols = ['bedrooms', 'bathrooms', 'square_feet', 'year', 'tax_of_property', 'tax_assessed_value_target', 'zip_code']\n",
    "\n",
    "\n",
    "    \n",
    "# loop for boxlots \n",
    "plt.figure(figsize=(20, 10))\n",
    "\n",
    "for i, col in enumerate(cols):\n",
    "    \n",
    "    # start count at \n",
    "    plot_number = i + 1 \n",
    "    \n",
    "    # Create subplot.\n",
    "    plt.subplot(2,4, plot_number)\n",
    "    \n",
    "    # Title with column name.\n",
    "    plt.title(col)\n",
    "    \n",
    "    # Display histogram for column.\n",
    "    plt.boxplot(df[col])\n",
    "    \n",
    "  "
   ]
  },
  {
   "cell_type": "markdown",
   "metadata": {},
   "source": [
    "# Split the Data"
   ]
  },
  {
   "cell_type": "code",
   "execution_count": 40,
   "metadata": {},
   "outputs": [],
   "source": [
    "# Use split_data function from wrangle\n",
    "train, validate, test = split_data(df)"
   ]
  },
  {
   "cell_type": "code",
   "execution_count": 41,
   "metadata": {},
   "outputs": [
    {
     "data": {
      "text/plain": [
       "((28341, 8), (12147, 8), (10123, 8))"
      ]
     },
     "execution_count": 41,
     "metadata": {},
     "output_type": "execute_result"
    }
   ],
   "source": [
    "train.shape, validate.shape, test.shape"
   ]
  },
  {
   "cell_type": "markdown",
   "metadata": {},
   "source": [
    "# Scale the Data "
   ]
  },
  {
   "cell_type": "code",
   "execution_count": 42,
   "metadata": {},
   "outputs": [],
   "source": [
    "# Chose feaures to run\n",
    "features = ['bedrooms', 'bathrooms', 'square_feet', 'year', 'fips', 'zip_code']\n",
    "    "
   ]
  },
  {
   "cell_type": "code",
   "execution_count": 43,
   "metadata": {},
   "outputs": [],
   "source": [
    "# Note that we only call .fit with the training data,\n",
    "x_train = train[features]\n",
    "x_validate = train[features]\n",
    "x_test = train[features]"
   ]
  },
  {
   "cell_type": "code",
   "execution_count": 49,
   "metadata": {},
   "outputs": [
    {
     "data": {
      "text/plain": [
       "Text(0.5, 1.0, 'Scaled')"
      ]
     },
     "execution_count": 49,
     "metadata": {},
     "output_type": "execute_result"
    },
    {
     "data": {
      "image/png": "[encoded data removed]",
      "text/plain": [
       "<Figure size 936x432 with 2 Axes>"
      ]
     },
     "metadata": {
      "needs_background": "light"
     },
     "output_type": "display_data"
    }
   ],
   "source": [
    "# RobustScaler\n",
    "\n",
    "scaler = RobustScaler()\n",
    "# Note that we only call .fit with the training data,\n",
    "# but we use .transform to apply the scaling to all the data splits.\n",
    "scaler.fit(x_train)\n",
    "\n",
    "x_train_scaled = scaler.transform(x_train)\n",
    "x_validate_scaled = scaler.transform(x_validate)\n",
    "x_test_scaled = scaler.transform(x_test)\n",
    "\n",
    "plt.figure(figsize=(13, 6))\n",
    "plt.subplot(121)\n",
    "plt.hist(x_train, bins=5, ec='black')\n",
    "plt.title('Original')\n",
    "plt.subplot(122)\n",
    "plt.hist(x_train_scaled, bins=5, ec='black')\n",
    "plt.title('Scaled')"
   ]
  },
  {
   "cell_type": "code",
   "execution_count": null,
   "metadata": {},
   "outputs": [],
   "source": []
  },
  {
   "cell_type": "code",
   "execution_count": null,
   "metadata": {},
   "outputs": [],
   "source": [
    "robust_scaler(train, validate, test)"
   ]
  },
  {
   "cell_type": "code",
   "execution_count": null,
   "metadata": {},
   "outputs": [],
   "source": []
  },
  {
   "cell_type": "code",
   "execution_count": null,
   "metadata": {},
   "outputs": [],
   "source": []
  }
 ],
 "metadata": {
  "interpreter": {
   "hash": "38cca0c38332a56087b24af0bc80247f4fced29cb4f7f437d91dc159adec9c4e"
  },
  "kernelspec": {
   "display_name": "Python 3",
   "language": "python",
   "name": "python3"
  },
  "language_info": {
   "codemirror_mode": {
    "name": "ipython",
    "version": 3
   },
   "file_extension": ".py",
   "mimetype": "text/x-python",
   "name": "python",
   "nbconvert_exporter": "python",
   "pygments_lexer": "ipython3",
   "version": "3.8.8"
  }
 },
 "nbformat": 4,
 "nbformat_minor": 2
}
